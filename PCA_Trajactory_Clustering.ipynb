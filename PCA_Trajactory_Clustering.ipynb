{
 "cells": [
  {
   "cell_type": "code",
   "execution_count": 4,
   "metadata": {},
   "outputs": [],
   "source": [
    "# -*- coding: utf-8 -*-\n",
    "import pandas as pd\n",
    "import numpy as np\n",
    "import os, re, math, scipy.io, time\n",
    "import seaborn as sns\n",
    "from scipy.spatial.distance import directed_hausdorff\n",
    "from sklearn.cluster import DBSCAN\n",
    "import traj_dist.distance as tdist\n",
    "import matplotlib.pyplot as plt\n",
    "import matplotlib.collections as mcoll\n",
    "import fastcluster as fc\n",
    "import scipy.cluster.hierarchy as sch\n",
    "import pickle\n",
    "#%matplotlib inline"
   ]
  },
  {
   "cell_type": "code",
   "execution_count": 5,
   "metadata": {},
   "outputs": [],
   "source": [
    "# Some visualization stuff, not so important\n",
    "sns.set()\n",
    "plt.rcParams['figure.figsize'] = (12, 12)\n",
    "\n",
    "# Utility Functions\n",
    "color_lst = plt.rcParams['axes.prop_cycle'].by_key()['color']\n",
    "color_lst.extend(['firebrick', 'olive', 'indigo', 'khaki', 'teal', 'saddlebrown',\n",
    "                 'skyblue', 'coral', 'darkorange', 'lime', 'darkorchid', 'dimgray'])\n",
    "INDEX_RANGE = 1305"
   ]
  },
  {
   "cell_type": "code",
   "execution_count": 6,
   "metadata": {},
   "outputs": [],
   "source": [
    "def convert_data_into_np_array(number_of_pcs = 2):\n",
    "    STAGE_DATA_DIR = 'DATA/stage_data'\n",
    "    data_dict = {}\n",
    "    traj_list = []\n",
    "    pair_indexs = range(1, INDEX_RANGE + 4)\n",
    "    for dir_name in os.listdir(STAGE_DATA_DIR):\n",
    "        if os.path.isdir(os.path.join(STAGE_DATA_DIR, dir_name)):\n",
    "            dir_index = int(dir_name.split(\"_\")[0])\n",
    "            data_fp = os.path.join(STAGE_DATA_DIR, dir_name, \"stage_metrics.csv\")\n",
    "            df = pd.read_csv(data_fp, sep=\",\", header=0).values\n",
    "            data_dict[dir_index] = {}\n",
    "            data_dict[dir_index]['pair_name'] = '_'.join(re.sub(r'[\\[|\\]|\\\\|\\'|\\s]', '', df[0, 4]).split(','))\n",
    "            pcs = df[:, 7: 7 + number_of_pcs].astype(float)\n",
    "            data_dict[dir_index]['pcs'] = pcs\n",
    "    pairs_name = [\"sox2_t\", \"gata5_pax8\", \"lhx1_pax8\"]\n",
    "    for pid, pair in enumerate(pairs_name):\n",
    "        input_fp = \"DATA/target_gene_pairs/%s.csv\" % pair\n",
    "        pcs = pd.read_csv(input_fp, sep=\",\", header=0).values\n",
    "        d_id = INDEX_RANGE + pid + 1\n",
    "        data_dict[d_id] ={}\n",
    "        data_dict[d_id]['pair_name'] = pair\n",
    "        data_dict[d_id]['pcs'] = pcs\n",
    "    for key in pair_indexs:\n",
    "        traj = data_dict[key]['pcs']\n",
    "        traj_list.append(traj)\n",
    "        plt.plot(traj[:, 0], traj[:, 1])\n",
    "    plt.show()\n",
    "    return [data_dict, traj_list]"
   ]
  },
  {
   "cell_type": "code",
   "execution_count": 7,
   "metadata": {},
   "outputs": [
    {
     "data": {
      "text/plain": [
       "<Figure size 864x864 with 1 Axes>"
      ]
     },
     "metadata": {},
     "output_type": "display_data"
    }
   ],
   "source": [
    "[data_dict, traj_list] = convert_data_into_np_array()"
   ]
  },
  {
   "cell_type": "code",
   "execution_count": 8,
   "metadata": {},
   "outputs": [],
   "source": [
    "def colorline(ax,\n",
    "        x, y, z=None, linestyle = 'solid', cmap='gist_rainbow', norm=plt.Normalize(0.0, 1.0),\n",
    "        linewidth=1, alpha=1.0):\n",
    "    \"\"\"\n",
    "    http://nbviewer.ipython.org/github/dpsanders/matplotlib-examples/blob/master/colorline.ipynb\n",
    "    http://matplotlib.org/examples/pylab_examples/multicolored_line.html\n",
    "    Plot a colored line with coordinates x and y\n",
    "    Optionally specify colors in the array z\n",
    "    Optionally specify a colormap, a norm function and a line width\n",
    "    \"\"\"\n",
    "\n",
    "    # Default colors equally spaced on [0,1]:\n",
    "    if z is None:\n",
    "        z = np.linspace(0.0, 1.0, len(x))\n",
    "\n",
    "    # Special case if a single number:\n",
    "    # to check for numerical input -- this is a hack\n",
    "    if not hasattr(z, \"__iter__\"):\n",
    "        z = np.array([z])\n",
    "\n",
    "    z = np.asarray(z)\n",
    "    segments = make_segments(x, y)\n",
    "    lc = mcoll.LineCollection(segments, array=z, cmap=cmap, norm=norm,\n",
    "                              linewidth=linewidth, alpha=alpha, linestyle=linestyle)\n",
    "\n",
    "    ax.add_collection(lc)\n",
    "\n",
    "    return lc"
   ]
  },
  {
   "cell_type": "code",
   "execution_count": 9,
   "metadata": {},
   "outputs": [],
   "source": [
    "def make_segments(x, y):\n",
    "    \"\"\"\n",
    "    Create list of line segments from x and y coordinates, in the correct format\n",
    "    for LineCollection: an array of the form numlines x (points per line) x 2 (x\n",
    "    and y) array\n",
    "    \"\"\"\n",
    "\n",
    "    points = np.array([x, y]).T.reshape(-1, 1, 2)\n",
    "    segments = np.concatenate([points[:-1], points[1:]], axis=1)\n",
    "    return segments"
   ]
  },
  {
   "cell_type": "code",
   "execution_count": 10,
   "metadata": {},
   "outputs": [],
   "source": [
    "def calc_distance_matrix(distance_fp, traj_list, metric_name):\n",
    "    ts = time.time()\n",
    "    p_dist = tdist.pdist(traj_list, metric=metric_name)\n",
    "    nb_dist = len(p_dist)\n",
    "    te = time.time()\n",
    "    print(\"%d Distances computed in %d seconds\" % (nb_dist, te - ts))\n",
    "    np.save(distance_fp, p_dist)"
   ]
  },
  {
   "cell_type": "code",
   "execution_count": 41,
   "metadata": {},
   "outputs": [],
   "source": [
    "def plot_cluster(traj_lst, cluster_lst, fig_fp):\n",
    "    '''\n",
    "    Plots given trajectories with a color that is specific for every trajectory's own cluster index.\n",
    "    Outlier trajectories which are specified with -1 in `cluster_lst` are plotted dashed with black color\n",
    "    '''\n",
    "    \n",
    "    N_COL = 5\n",
    "    N_ROW = int(math.ceil(float(N_CLUSTER) / N_COL))\n",
    "    c_arr = np.array([(time_point + 1.)/10. for time_point in range(10)])\n",
    "    traj_lst = np.array(traj_lst)\n",
    "    cluster_lst = np.array(cluster_lst)\n",
    "    fig, axs = plt.subplots(N_ROW, N_COL, figsize=(N_COL * EACH_SUB_FIG_SIZE, N_ROW * EACH_SUB_FIG_SIZE))\n",
    "    for index, (traj, cluster) in enumerate(zip(traj_lst, cluster_lst)):\n",
    "        row = cluster // N_COL\n",
    "        col = cluster % N_COL\n",
    "        if N_ROW > 1:\n",
    "            ax = axs[row][col]\n",
    "        else:\n",
    "            ax = axs[cluster]\n",
    "        data_index = index + 1\n",
    "        if  data_index > INDEX_RANGE:\n",
    "            # Means it it a noisy trajectory, paint it black\n",
    "#             ax.plot(traj[:, 0], traj[:, 1], c=c_arr, linestyle='dashed')\n",
    "            colorline(ax, traj[:, 0], traj[:, 1], c_arr,linestyle='dashed')\n",
    "            ax.text(0, 0, data_dict[data_index]['pair_name'], color='black')\n",
    "            ids_in_same_cluster, = np.nonzero(cluster_lst == cluster)\n",
    "            pair_names = [data_dict[item]['pair_name'] for item in ids_in_same_cluster]\n",
    "            print(pair_names)\n",
    "        else:\n",
    "            \n",
    "            colorline(ax, traj[:, 0], traj[:, 1], c_arr)\n",
    "            #ax.plot(traj[:, 0], traj[:, 1], c=color_lst[cluster % len(color_lst)])\n",
    "        \n",
    "        ax.set_xlim(-20, 45)\n",
    "        ax.set_ylim(-20, 40)\n",
    "    plt.savefig(fig_fp, dpi=200)\n",
    "    plt.show()"
   ]
  },
  {
   "cell_type": "code",
   "execution_count": 42,
   "metadata": {},
   "outputs": [],
   "source": [
    "def mkdirs(dir_paths):\n",
    "    for dir_path in dir_paths:\n",
    "        if not os.path.exists(dir_path):\n",
    "            os.makedirs(dir_path)"
   ]
  },
  {
   "cell_type": "markdown",
   "metadata": {},
   "source": [
    "### Calculating pair-wised trajactory distance"
   ]
  },
  {
   "cell_type": "code",
   "execution_count": 43,
   "metadata": {},
   "outputs": [],
   "source": [
    "metric = \"sspd\"\n",
    "distance_fp = \"DATA/pair_distance_by_%s.npy\" % metric\n",
    "#calc_distance_matrix(distance_fp, traj_list, metric)"
   ]
  },
  {
   "cell_type": "code",
   "execution_count": 44,
   "metadata": {},
   "outputs": [
    {
     "name": "stdout",
     "output_type": "stream",
     "text": [
      "['msln-like.2_LOC733735', 'ppl_LOC733735', 'tubb4b_prdm1', 'ugdh.2_ccno', 'pax6_fam57a', 'tbc1d2b_myl4']\n",
      "['LOC733735_LOC100490289-like', 'ag1_LOC100490918-like', 'atp1b2_LOC101734069-like', 'cnfn.1_LOC100490918-like', 'dact1_LOC100490918-like', 'ppl_pcdh7', 'rnd1_LOC100490918-like', 'slc16a3_LOC100490918-like', 'ddit3_admp', 'kpna2_dbn1', 'neurog1_id3', 'foxa4_a2ml1', 'hoxc10_ferd3l', 'LOC595077_LOC100145611', 'Xetrov90028339m_Xetrov90017310m', 'ag1_LOC100494819-like', 'dll1_akap9', 'flnb_LOC100145611', 'grasp_LOC100145611', 'hand2_arpc1a', 'hes6.1_chga', 'klf11_LOC101734297-like', 'klf5_LOC101734297-like', 'klf5_Xetrov90017310m', 'msln-like.2_gch1', 'nans_dbn1', 'napa_LOC101734297-like', 'nrp1_hipk1', 'pcnp_crisp1', 'prph_ag1', 'prph_mgat1', 'prph_nans', 'rab3a_LOC100216126', 'rab3a_LOC101734297-like', 'rab3a_Xetrov90017310m', 'slc16a3_LOC594901', 'slc16a3_LOC733482', 'tmem45b_basp1', 'ubp1_slc9a3r1', 'ubp1_sox2', 'ubp1_tox3', 'ubtd1_crisp1', 'ugdh.2_LOC100491886', 'ugdh.2_LOC101732259', 'upk1b_LOC100145611', 'upk1b_dlc', 'upk2_gch1', 'zc3h12c_idh1', 'zc3h12c_sema3f', 'sox2_t']\n",
      "['LOC101734069-like_LOC100490918-like', 'atp12a-like.1_LOC101734069-like', 'cdk7_LOC100490918-like', 'upk1b_shroom4', 'upk2_shroom4', 'upk3a_LOC100490918-like', 'gata5_pax8']\n"
     ]
    },
    {
     "data": {
     
      "text/plain": [
       "<Figure size 1800x2160 with 30 Axes>"
      ]
     },
     "metadata": {},
     "output_type": "display_data"
    }
   ],
   "source": [
    "N_CLUSTER =30\n",
    "EACH_SUB_FIG_SIZE = 5\n",
    "fig_dir = 'figure_outputs/Traj_clusters'\n",
    "mkdirs([fig_dir])\n",
    "distance_fp = \"DATA/pair_distance_by_%s.npy\" % metric\n",
    "fig_fp = os.path.join(fig_dir, \"cluster_by_%s.png\" % metric)\n",
    "p_dist = np.load(distance_fp)\n",
    "Z = fc.linkage(p_dist, method=\"ward\")\n",
    "labels =sch.fcluster(Z, N_CLUSTER , criterion=\"maxclust\")-1\n",
    "plot_cluster(traj_list, labels, fig_fp)"
   ]
  },
  {
   "cell_type": "code",
   "execution_count": null,
   "metadata": {},
   "outputs": [],
   "source": []
  },
  {
   "cell_type": "code",
   "execution_count": null,
   "metadata": {},
   "outputs": [],
   "source": []
  }
 ],
 "metadata": {
  "kernelspec": {
   "display_name": "Python 2.7",
   "language": "python",
   "name": "py2"
  },
  "language_info": {
   "codemirror_mode": {
    "name": "ipython",
    "version": 2
   },
   "file_extension": ".py",
   "mimetype": "text/x-python",
   "name": "python",
   "nbconvert_exporter": "python",
   "pygments_lexer": "ipython2",
   "version": "2.7.16"
  }
 },
 "nbformat": 4,
 "nbformat_minor": 2
}
